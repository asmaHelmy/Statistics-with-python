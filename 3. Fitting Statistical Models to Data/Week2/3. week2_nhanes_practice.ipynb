{
 "cells": [
  {
   "cell_type": "markdown",
   "metadata": {},
   "source": [
    "# Practice notebook for regression analysis with NHANES\n",
    "\n",
    "This notebook will give you the opportunity to perform some\n",
    "regression analyses with the NHANES data that are similar to\n",
    "the analyses done in the week 2 case study notebook.\n",
    "\n",
    "You can enter your code into the cells that say \"enter your code here\",\n",
    "and you can type responses to the questions into the cells that say \"Type Markdown and Latex\".\n",
    "\n",
    "Note that most of the code that you will need to write below is very similar\n",
    "to code that appears in the case study notebook.  You will need\n",
    "to edit code from that notebook in small ways to adapt it to the\n",
    "prompts below.\n",
    "\n",
    "To get started, we will use the same module imports and\n",
    "read the data in the same way as we did in the case study:"
   ]
  },
  {
   "cell_type": "code",
   "execution_count": 1,
   "metadata": {
    "ExecuteTime": {
     "end_time": "2020-07-02T00:02:40.272024Z",
     "start_time": "2020-07-02T00:02:36.526719Z"
    }
   },
   "outputs": [],
   "source": [
    "%matplotlib inline\n",
    "import matplotlib.pyplot as plt\n",
    "import seaborn as sns\n",
    "import pandas as pd\n",
    "import statsmodels.api as sm\n",
    "import numpy as np\n",
    "\n",
    "url = \"https://raw.githubusercontent.com/kshedden/statswpy/master/NHANES/merged/nhanes_2015_2016.csv\"\n",
    "da = pd.read_csv(url)\n",
    "\n",
    "# Drop unused columns, drop rows with any missing values.\n",
    "vars = [\"BPXSY1\", \"RIDAGEYR\", \"RIAGENDR\", \"RIDRETH1\", \"DMDEDUC2\", \"BMXBMI\", \"SMQ020\"]\n",
    "da = da[vars].dropna()"
   ]
  },
  {
   "cell_type": "markdown",
   "metadata": {},
   "source": [
    "## Question 1:\n",
    "\n",
    "Use linear regression to relate the expected body mass index (BMI) to a person's age."
   ]
  },
  {
   "cell_type": "code",
   "execution_count": 12,
   "metadata": {
    "ExecuteTime": {
     "end_time": "2020-07-02T00:03:53.254107Z",
     "start_time": "2020-07-02T00:03:53.184069Z"
    }
   },
   "outputs": [
    {
     "data": {
      "text/html": [
       "<table class=\"simpletable\">\n",
       "<caption>OLS Regression Results</caption>\n",
       "<tr>\n",
       "  <th>Dep. Variable:</th>         <td>BMXBMI</td>      <th>  R-squared:         </th> <td>   0.001</td> \n",
       "</tr>\n",
       "<tr>\n",
       "  <th>Model:</th>                   <td>OLS</td>       <th>  Adj. R-squared:    </th> <td>   0.000</td> \n",
       "</tr>\n",
       "<tr>\n",
       "  <th>Method:</th>             <td>Least Squares</td>  <th>  F-statistic:       </th> <td>   2.720</td> \n",
       "</tr>\n",
       "<tr>\n",
       "  <th>Date:</th>             <td>Thu, 02 Jul 2020</td> <th>  Prob (F-statistic):</th>  <td>0.0991</td>  \n",
       "</tr>\n",
       "<tr>\n",
       "  <th>Time:</th>                 <td>02:03:53</td>     <th>  Log-Likelihood:    </th> <td> -17149.</td> \n",
       "</tr>\n",
       "<tr>\n",
       "  <th>No. Observations:</th>      <td>  5102</td>      <th>  AIC:               </th> <td>3.430e+04</td>\n",
       "</tr>\n",
       "<tr>\n",
       "  <th>Df Residuals:</th>          <td>  5100</td>      <th>  BIC:               </th> <td>3.432e+04</td>\n",
       "</tr>\n",
       "<tr>\n",
       "  <th>Df Model:</th>              <td>     1</td>      <th>                     </th>     <td> </td>    \n",
       "</tr>\n",
       "<tr>\n",
       "  <th>Covariance Type:</th>      <td>nonrobust</td>    <th>                     </th>     <td> </td>    \n",
       "</tr>\n",
       "</table>\n",
       "<table class=\"simpletable\">\n",
       "<tr>\n",
       "      <td></td>         <th>coef</th>     <th>std err</th>      <th>t</th>      <th>P>|t|</th>  <th>[0.025</th>    <th>0.975]</th>  \n",
       "</tr>\n",
       "<tr>\n",
       "  <th>Intercept</th> <td>   29.0564</td> <td>    0.290</td> <td>  100.143</td> <td> 0.000</td> <td>   28.488</td> <td>   29.625</td>\n",
       "</tr>\n",
       "<tr>\n",
       "  <th>RIDAGEYR</th>  <td>    0.0091</td> <td>    0.006</td> <td>    1.649</td> <td> 0.099</td> <td>   -0.002</td> <td>    0.020</td>\n",
       "</tr>\n",
       "</table>\n",
       "<table class=\"simpletable\">\n",
       "<tr>\n",
       "  <th>Omnibus:</th>       <td>936.202</td> <th>  Durbin-Watson:     </th> <td>   2.009</td>\n",
       "</tr>\n",
       "<tr>\n",
       "  <th>Prob(Omnibus):</th> <td> 0.000</td>  <th>  Jarque-Bera (JB):  </th> <td>1857.656</td>\n",
       "</tr>\n",
       "<tr>\n",
       "  <th>Skew:</th>          <td> 1.105</td>  <th>  Prob(JB):          </th> <td>    0.00</td>\n",
       "</tr>\n",
       "<tr>\n",
       "  <th>Kurtosis:</th>      <td> 4.964</td>  <th>  Cond. No.          </th> <td>    156.</td>\n",
       "</tr>\n",
       "</table><br/><br/>Warnings:<br/>[1] Standard Errors assume that the covariance matrix of the errors is correctly specified."
      ],
      "text/plain": [
       "<class 'statsmodels.iolib.summary.Summary'>\n",
       "\"\"\"\n",
       "                            OLS Regression Results                            \n",
       "==============================================================================\n",
       "Dep. Variable:                 BMXBMI   R-squared:                       0.001\n",
       "Model:                            OLS   Adj. R-squared:                  0.000\n",
       "Method:                 Least Squares   F-statistic:                     2.720\n",
       "Date:                Thu, 02 Jul 2020   Prob (F-statistic):             0.0991\n",
       "Time:                        02:03:53   Log-Likelihood:                -17149.\n",
       "No. Observations:                5102   AIC:                         3.430e+04\n",
       "Df Residuals:                    5100   BIC:                         3.432e+04\n",
       "Df Model:                           1                                         \n",
       "Covariance Type:            nonrobust                                         \n",
       "==============================================================================\n",
       "                 coef    std err          t      P>|t|      [0.025      0.975]\n",
       "------------------------------------------------------------------------------\n",
       "Intercept     29.0564      0.290    100.143      0.000      28.488      29.625\n",
       "RIDAGEYR       0.0091      0.006      1.649      0.099      -0.002       0.020\n",
       "==============================================================================\n",
       "Omnibus:                      936.202   Durbin-Watson:                   2.009\n",
       "Prob(Omnibus):                  0.000   Jarque-Bera (JB):             1857.656\n",
       "Skew:                           1.105   Prob(JB):                         0.00\n",
       "Kurtosis:                       4.964   Cond. No.                         156.\n",
       "==============================================================================\n",
       "\n",
       "Warnings:\n",
       "[1] Standard Errors assume that the covariance matrix of the errors is correctly specified.\n",
       "\"\"\""
      ]
     },
     "execution_count": 12,
     "metadata": {},
     "output_type": "execute_result"
    }
   ],
   "source": [
    "# enter your code here\n",
    "model = sm.OLS.from_formula(\"BMXBMI ~ RIDAGEYR\", data=da)\n",
    "result = model.fit()\n",
    "result.summary()"
   ]
  },
  {
   "cell_type": "markdown",
   "metadata": {},
   "source": [
    "__Q1a.__ According to your fitted model, do older people tend to have higher or lower BMI than younger people?"
   ]
  },
  {
   "cell_type": "markdown",
   "metadata": {},
   "source": [
    "- YES"
   ]
  },
  {
   "cell_type": "markdown",
   "metadata": {},
   "source": [
    "__Q1b.__ Based your analysis, are you confident that there is a relationship between BMI and age in the population that NHANES represents?"
   ]
  },
  {
   "cell_type": "markdown",
   "metadata": {},
   "source": [
    "- No"
   ]
  },
  {
   "cell_type": "markdown",
   "metadata": {},
   "source": [
    "__Q1c.__ By how much does the average BMI of a 40 year old differ from the average BMI of a 20 year old?"
   ]
  },
  {
   "cell_type": "markdown",
   "metadata": {},
   "source": [
    "- 0.182 (0.0091×20)"
   ]
  },
  {
   "cell_type": "markdown",
   "metadata": {},
   "source": [
    "__Q1d.__ What fraction of the variation of BMI in this population is explained by age?"
   ]
  },
  {
   "cell_type": "markdown",
   "metadata": {},
   "source": [
    "- 0.1 %"
   ]
  },
  {
   "cell_type": "markdown",
   "metadata": {},
   "source": [
    "## Question 2: \n",
    "\n",
    "Add gender and ethnicity as additional control variables to your linear model relating BMI to age.  You will need to recode the ethnic groups based\n",
    "on the values in the codebook entry for [RIDRETH1](https://wwwn.cdc.gov/Nchs/Nhanes/2015-2016/DEMO_I.htm#RIDRETH1)."
   ]
  },
  {
   "cell_type": "code",
   "execution_count": 13,
   "metadata": {
    "ExecuteTime": {
     "end_time": "2020-07-02T00:11:45.477197Z",
     "start_time": "2020-07-02T00:11:45.442935Z"
    }
   },
   "outputs": [
    {
     "data": {
      "text/html": [
       "<table class=\"simpletable\">\n",
       "<caption>OLS Regression Results</caption>\n",
       "<tr>\n",
       "  <th>Dep. Variable:</th>         <td>BMXBMI</td>      <th>  R-squared:         </th> <td>   0.031</td> \n",
       "</tr>\n",
       "<tr>\n",
       "  <th>Model:</th>                   <td>OLS</td>       <th>  Adj. R-squared:    </th> <td>   0.030</td> \n",
       "</tr>\n",
       "<tr>\n",
       "  <th>Method:</th>             <td>Least Squares</td>  <th>  F-statistic:       </th> <td>   53.51</td> \n",
       "</tr>\n",
       "<tr>\n",
       "  <th>Date:</th>             <td>Thu, 02 Jul 2020</td> <th>  Prob (F-statistic):</th> <td>4.78e-34</td> \n",
       "</tr>\n",
       "<tr>\n",
       "  <th>Time:</th>                 <td>02:11:45</td>     <th>  Log-Likelihood:    </th> <td> -17072.</td> \n",
       "</tr>\n",
       "<tr>\n",
       "  <th>No. Observations:</th>      <td>  5102</td>      <th>  AIC:               </th> <td>3.415e+04</td>\n",
       "</tr>\n",
       "<tr>\n",
       "  <th>Df Residuals:</th>          <td>  5098</td>      <th>  BIC:               </th> <td>3.418e+04</td>\n",
       "</tr>\n",
       "<tr>\n",
       "  <th>Df Model:</th>              <td>     3</td>      <th>                     </th>     <td> </td>    \n",
       "</tr>\n",
       "<tr>\n",
       "  <th>Covariance Type:</th>      <td>nonrobust</td>    <th>                     </th>     <td> </td>    \n",
       "</tr>\n",
       "</table>\n",
       "<table class=\"simpletable\">\n",
       "<tr>\n",
       "      <td></td>         <th>coef</th>     <th>std err</th>      <th>t</th>      <th>P>|t|</th>  <th>[0.025</th>    <th>0.975]</th>  \n",
       "</tr>\n",
       "<tr>\n",
       "  <th>Intercept</th> <td>   30.0420</td> <td>    0.481</td> <td>   62.476</td> <td> 0.000</td> <td>   29.099</td> <td>   30.985</td>\n",
       "</tr>\n",
       "<tr>\n",
       "  <th>RIDAGEYR</th>  <td>    0.0072</td> <td>    0.005</td> <td>    1.319</td> <td> 0.187</td> <td>   -0.003</td> <td>    0.018</td>\n",
       "</tr>\n",
       "<tr>\n",
       "  <th>RIAGENDR</th>  <td>    1.0736</td> <td>    0.193</td> <td>    5.572</td> <td> 0.000</td> <td>    0.696</td> <td>    1.451</td>\n",
       "</tr>\n",
       "<tr>\n",
       "  <th>RIDRETH1</th>  <td>   -0.8331</td> <td>    0.075</td> <td>  -11.102</td> <td> 0.000</td> <td>   -0.980</td> <td>   -0.686</td>\n",
       "</tr>\n",
       "</table>\n",
       "<table class=\"simpletable\">\n",
       "<tr>\n",
       "  <th>Omnibus:</th>       <td>938.896</td> <th>  Durbin-Watson:     </th> <td>   2.005</td>\n",
       "</tr>\n",
       "<tr>\n",
       "  <th>Prob(Omnibus):</th> <td> 0.000</td>  <th>  Jarque-Bera (JB):  </th> <td>1888.545</td>\n",
       "</tr>\n",
       "<tr>\n",
       "  <th>Skew:</th>          <td> 1.101</td>  <th>  Prob(JB):          </th> <td>    0.00</td>\n",
       "</tr>\n",
       "<tr>\n",
       "  <th>Kurtosis:</th>      <td> 5.008</td>  <th>  Cond. No.          </th> <td>    273.</td>\n",
       "</tr>\n",
       "</table><br/><br/>Warnings:<br/>[1] Standard Errors assume that the covariance matrix of the errors is correctly specified."
      ],
      "text/plain": [
       "<class 'statsmodels.iolib.summary.Summary'>\n",
       "\"\"\"\n",
       "                            OLS Regression Results                            \n",
       "==============================================================================\n",
       "Dep. Variable:                 BMXBMI   R-squared:                       0.031\n",
       "Model:                            OLS   Adj. R-squared:                  0.030\n",
       "Method:                 Least Squares   F-statistic:                     53.51\n",
       "Date:                Thu, 02 Jul 2020   Prob (F-statistic):           4.78e-34\n",
       "Time:                        02:11:45   Log-Likelihood:                -17072.\n",
       "No. Observations:                5102   AIC:                         3.415e+04\n",
       "Df Residuals:                    5098   BIC:                         3.418e+04\n",
       "Df Model:                           3                                         \n",
       "Covariance Type:            nonrobust                                         \n",
       "==============================================================================\n",
       "                 coef    std err          t      P>|t|      [0.025      0.975]\n",
       "------------------------------------------------------------------------------\n",
       "Intercept     30.0420      0.481     62.476      0.000      29.099      30.985\n",
       "RIDAGEYR       0.0072      0.005      1.319      0.187      -0.003       0.018\n",
       "RIAGENDR       1.0736      0.193      5.572      0.000       0.696       1.451\n",
       "RIDRETH1      -0.8331      0.075    -11.102      0.000      -0.980      -0.686\n",
       "==============================================================================\n",
       "Omnibus:                      938.896   Durbin-Watson:                   2.005\n",
       "Prob(Omnibus):                  0.000   Jarque-Bera (JB):             1888.545\n",
       "Skew:                           1.101   Prob(JB):                         0.00\n",
       "Kurtosis:                       5.008   Cond. No.                         273.\n",
       "==============================================================================\n",
       "\n",
       "Warnings:\n",
       "[1] Standard Errors assume that the covariance matrix of the errors is correctly specified.\n",
       "\"\"\""
      ]
     },
     "execution_count": 13,
     "metadata": {},
     "output_type": "execute_result"
    }
   ],
   "source": [
    "# enter your code here\n",
    "model = sm.OLS.from_formula(\"BMXBMI ~ RIDAGEYR + RIAGENDR + RIDRETH1\", data=da)\n",
    "result = model.fit()\n",
    "result.summary()"
   ]
  },
  {
   "cell_type": "markdown",
   "metadata": {},
   "source": [
    "__Q2a.__ How did the mean relationship between BMI and age change when you added additional covariates to the model?"
   ]
  },
  {
   "cell_type": "markdown",
   "metadata": {},
   "source": [
    "- It Decreased."
   ]
  },
  {
   "cell_type": "markdown",
   "metadata": {},
   "source": [
    "__Q2b.__ How did the standard error for the regression parameter for age change when you added additional covariates to the model?"
   ]
  },
  {
   "cell_type": "markdown",
   "metadata": {},
   "source": [
    "- It decreased."
   ]
  },
  {
   "cell_type": "markdown",
   "metadata": {},
   "source": [
    "__Q2c.__ How much additional variation in BMI is explained by age, gender, and ethnicity that is not explained by age alone?"
   ]
  },
  {
   "cell_type": "markdown",
   "metadata": {},
   "source": [
    "- 3% (0.031 - 0.001 = 0.03)"
   ]
  },
  {
   "cell_type": "markdown",
   "metadata": {},
   "source": [
    "__Q2d.__ What reference level did the software select for the ethnicity variable?"
   ]
  },
  {
   "cell_type": "markdown",
   "metadata": {},
   "source": [
    "- -0.8331"
   ]
  },
  {
   "cell_type": "markdown",
   "metadata": {},
   "source": [
    "__Q2e.__ What is the expected difference between the BMI of a 40 year-old non-Hispanic black man and a 30 year-old non-Hispanic black man?"
   ]
  },
  {
   "cell_type": "markdown",
   "metadata": {},
   "source": [
    "- 0.072 (0.0072 * 10)"
   ]
  },
  {
   "cell_type": "markdown",
   "metadata": {},
   "source": [
    "__Q2f.__ What is the expected difference between the BMI of a 50 year-old Mexican American woman and a 50 year-old non-Hispanic black man?"
   ]
  },
  {
   "cell_type": "markdown",
   "metadata": {},
   "source": [
    "- -0.8331 + 1.0736 = 0.2405"
   ]
  },
  {
   "cell_type": "markdown",
   "metadata": {},
   "source": [
    "## Question 3: \n",
    "\n",
    "Randomly sample 25% of the NHANES data, then fit the same model you used in question 2 to this data set."
   ]
  },
  {
   "cell_type": "code",
   "execution_count": 27,
   "metadata": {
    "ExecuteTime": {
     "end_time": "2020-07-02T00:26:19.447057Z",
     "start_time": "2020-07-02T00:26:19.406270Z"
    }
   },
   "outputs": [
    {
     "data": {
      "text/html": [
       "<table class=\"simpletable\">\n",
       "<caption>OLS Regression Results</caption>\n",
       "<tr>\n",
       "  <th>Dep. Variable:</th>         <td>BMXBMI</td>      <th>  R-squared:         </th> <td>   0.032</td>\n",
       "</tr>\n",
       "<tr>\n",
       "  <th>Model:</th>                   <td>OLS</td>       <th>  Adj. R-squared:    </th> <td>   0.030</td>\n",
       "</tr>\n",
       "<tr>\n",
       "  <th>Method:</th>             <td>Least Squares</td>  <th>  F-statistic:       </th> <td>   14.11</td>\n",
       "</tr>\n",
       "<tr>\n",
       "  <th>Date:</th>             <td>Thu, 02 Jul 2020</td> <th>  Prob (F-statistic):</th> <td>4.77e-09</td>\n",
       "</tr>\n",
       "<tr>\n",
       "  <th>Time:</th>                 <td>02:26:19</td>     <th>  Log-Likelihood:    </th> <td> -4286.4</td>\n",
       "</tr>\n",
       "<tr>\n",
       "  <th>No. Observations:</th>      <td>  1276</td>      <th>  AIC:               </th> <td>   8581.</td>\n",
       "</tr>\n",
       "<tr>\n",
       "  <th>Df Residuals:</th>          <td>  1272</td>      <th>  BIC:               </th> <td>   8601.</td>\n",
       "</tr>\n",
       "<tr>\n",
       "  <th>Df Model:</th>              <td>     3</td>      <th>                     </th>     <td> </td>   \n",
       "</tr>\n",
       "<tr>\n",
       "  <th>Covariance Type:</th>      <td>nonrobust</td>    <th>                     </th>     <td> </td>   \n",
       "</tr>\n",
       "</table>\n",
       "<table class=\"simpletable\">\n",
       "<tr>\n",
       "      <td></td>         <th>coef</th>     <th>std err</th>      <th>t</th>      <th>P>|t|</th>  <th>[0.025</th>    <th>0.975]</th>  \n",
       "</tr>\n",
       "<tr>\n",
       "  <th>Intercept</th> <td>   32.2211</td> <td>    0.954</td> <td>   33.763</td> <td> 0.000</td> <td>   30.349</td> <td>   34.093</td>\n",
       "</tr>\n",
       "<tr>\n",
       "  <th>RIDAGEYR</th>  <td>   -0.0132</td> <td>    0.011</td> <td>   -1.199</td> <td> 0.231</td> <td>   -0.035</td> <td>    0.008</td>\n",
       "</tr>\n",
       "<tr>\n",
       "  <th>RIAGENDR</th>  <td>    0.5056</td> <td>    0.391</td> <td>    1.294</td> <td> 0.196</td> <td>   -0.261</td> <td>    1.272</td>\n",
       "</tr>\n",
       "<tr>\n",
       "  <th>RIDRETH1</th>  <td>   -0.9665</td> <td>    0.152</td> <td>   -6.372</td> <td> 0.000</td> <td>   -1.264</td> <td>   -0.669</td>\n",
       "</tr>\n",
       "</table>\n",
       "<table class=\"simpletable\">\n",
       "<tr>\n",
       "  <th>Omnibus:</th>       <td>285.310</td> <th>  Durbin-Watson:     </th> <td>   2.047</td> \n",
       "</tr>\n",
       "<tr>\n",
       "  <th>Prob(Omnibus):</th> <td> 0.000</td>  <th>  Jarque-Bera (JB):  </th> <td> 652.441</td> \n",
       "</tr>\n",
       "<tr>\n",
       "  <th>Skew:</th>          <td> 1.225</td>  <th>  Prob(JB):          </th> <td>2.11e-142</td>\n",
       "</tr>\n",
       "<tr>\n",
       "  <th>Kurtosis:</th>      <td> 5.504</td>  <th>  Cond. No.          </th> <td>    265.</td> \n",
       "</tr>\n",
       "</table><br/><br/>Warnings:<br/>[1] Standard Errors assume that the covariance matrix of the errors is correctly specified."
      ],
      "text/plain": [
       "<class 'statsmodels.iolib.summary.Summary'>\n",
       "\"\"\"\n",
       "                            OLS Regression Results                            \n",
       "==============================================================================\n",
       "Dep. Variable:                 BMXBMI   R-squared:                       0.032\n",
       "Model:                            OLS   Adj. R-squared:                  0.030\n",
       "Method:                 Least Squares   F-statistic:                     14.11\n",
       "Date:                Thu, 02 Jul 2020   Prob (F-statistic):           4.77e-09\n",
       "Time:                        02:26:19   Log-Likelihood:                -4286.4\n",
       "No. Observations:                1276   AIC:                             8581.\n",
       "Df Residuals:                    1272   BIC:                             8601.\n",
       "Df Model:                           3                                         \n",
       "Covariance Type:            nonrobust                                         \n",
       "==============================================================================\n",
       "                 coef    std err          t      P>|t|      [0.025      0.975]\n",
       "------------------------------------------------------------------------------\n",
       "Intercept     32.2211      0.954     33.763      0.000      30.349      34.093\n",
       "RIDAGEYR      -0.0132      0.011     -1.199      0.231      -0.035       0.008\n",
       "RIAGENDR       0.5056      0.391      1.294      0.196      -0.261       1.272\n",
       "RIDRETH1      -0.9665      0.152     -6.372      0.000      -1.264      -0.669\n",
       "==============================================================================\n",
       "Omnibus:                      285.310   Durbin-Watson:                   2.047\n",
       "Prob(Omnibus):                  0.000   Jarque-Bera (JB):              652.441\n",
       "Skew:                           1.225   Prob(JB):                    2.11e-142\n",
       "Kurtosis:                       5.504   Cond. No.                         265.\n",
       "==============================================================================\n",
       "\n",
       "Warnings:\n",
       "[1] Standard Errors assume that the covariance matrix of the errors is correctly specified.\n",
       "\"\"\""
      ]
     },
     "execution_count": 27,
     "metadata": {},
     "output_type": "execute_result"
    }
   ],
   "source": [
    "# enter your code here\n",
    "indices = np.random.randint(0, da.shape[0], int(np.round(da.shape[0]*0.25))).tolist()\n",
    "model = sm.OLS.from_formula(\"BMXBMI ~ RIDAGEYR + RIAGENDR + RIDRETH1\", data=da.iloc[indices])\n",
    "result = model.fit()\n",
    "result.summary()"
   ]
  },
  {
   "cell_type": "markdown",
   "metadata": {},
   "source": [
    "__Q3a.__ How do the estimated regression coefficients and their standard errors compare between these two models?  Do you see any systematic relationship between the two sets of results?"
   ]
  },
  {
   "cell_type": "markdown",
   "metadata": {},
   "source": [
    "- All of the estimated regression coefficients decreased, while intercept increased.\n",
    "- The std errors Increased."
   ]
  },
  {
   "cell_type": "markdown",
   "metadata": {},
   "source": [
    "## Question 4:\n",
    "\n",
    "Generate a scatterplot of the residuals against the fitted values for the model you fit in question 2."
   ]
  },
  {
   "cell_type": "code",
   "execution_count": 29,
   "metadata": {
    "ExecuteTime": {
     "end_time": "2020-07-02T00:29:52.286908Z",
     "start_time": "2020-07-02T00:29:52.115846Z"
    }
   },
   "outputs": [
    {
     "data": {
      "image/png": "[encoded data removed]",
      "text/plain": [
       "<Figure size 432x288 with 1 Axes>"
      ]
     },
     "metadata": {
      "needs_background": "light"
     },
     "output_type": "display_data"
    }
   ],
   "source": [
    "# enter your code here\n",
    "pp = sns.scatterplot(result.fittedvalues, result.resid)\n",
    "pp.set_xlabel(\"Fitted values\")\n",
    "_ = pp.set_ylabel(\"Residuals\")"
   ]
  },
  {
   "cell_type": "markdown",
   "metadata": {},
   "source": [
    "__Q4a.__ What mean/variance relationship do you see?"
   ]
  },
  {
   "cell_type": "markdown",
   "metadata": {},
   "source": [
    "- Mean around 0\n",
    "- The deviations from the mean are a bit smaller at the high end of the range compared to the high end of the range. We also see that at the high end of the range."
   ]
  },
  {
   "cell_type": "markdown",
   "metadata": {},
   "source": [
    "## Question 5: \n",
    "\n",
    "Generate a plot showing the fitted mean BMI as a function of age for Mexican American men.  Include a 95% simultaneous confidence band on your graph."
   ]
  },
  {
   "cell_type": "code",
   "execution_count": 36,
   "metadata": {
    "ExecuteTime": {
     "end_time": "2020-07-02T00:38:51.898828Z",
     "start_time": "2020-07-02T00:38:51.696907Z"
    }
   },
   "outputs": [
    {
     "data": {
      "image/png": "[encoded data removed]",
      "text/plain": [
       "<Figure size 432x288 with 1 Axes>"
      ]
     },
     "metadata": {
      "needs_background": "light"
     },
     "output_type": "display_data"
    }
   ],
   "source": [
    "# enter your code here\n",
    "\n",
    "from statsmodels.sandbox.predict_functional import predict_functional\n",
    "\n",
    "# Fix certain variables at reference values.  Not all of these\n",
    "# variables are used here, but we provide them with a value anyway\n",
    "# to prevent a warning message from appearing.\n",
    "values = {\"RIAGENDR\": 1, \"BPXSY1\":1,\n",
    "          \"DMDEDUC2\": 1, \"RIDRETH1\": 1, \"SMQ020\": 1}\n",
    "\n",
    "pr, cb, fv = predict_functional(result, \"RIDAGEYR\",\n",
    "                values=values, ci_method=\"simultaneous\")\n",
    "\n",
    "ax = sns.lineplot(fv, pr, lw=4)\n",
    "ax.fill_between(fv, cb[:, 0], cb[:, 1], color='grey', alpha=0.4)\n",
    "ax.set_xlabel(\"Age\")\n",
    "_ = ax.set_ylabel(\"BMI\")"
   ]
  },
  {
   "cell_type": "markdown",
   "metadata": {},
   "source": [
    "__Q5a.__ According to your graph, what is the longest interval starting at year 30 following which the mean BMI could be constant?  *Hint:* What is the longest horizontal line starting at age 30 that remains within the confidence band?"
   ]
  },
  {
   "cell_type": "markdown",
   "metadata": {},
   "source": [
    "- 50y"
   ]
  },
  {
   "cell_type": "markdown",
   "metadata": {},
   "source": [
    "__Q5b.__ Add an additional line and confidence band to the same plot, showing the relationship between age and BMI for Mexican American women.  At what ages do these intervals not overlap?"
   ]
  },
  {
   "cell_type": "markdown",
   "metadata": {},
   "source": []
  },
  {
   "cell_type": "markdown",
   "metadata": {},
   "source": [
    "## Question 6:\n",
    "\n",
    "Use an added variable plot to assess the linearity of the relationship between BMI and age (when controlling for gender and ethnicity)."
   ]
  },
  {
   "cell_type": "code",
   "execution_count": 7,
   "metadata": {
    "ExecuteTime": {
     "end_time": "2020-07-02T00:02:40.330148Z",
     "start_time": "2020-07-02T00:02:40.325828Z"
    }
   },
   "outputs": [],
   "source": [
    "# enter your code here"
   ]
  },
  {
   "cell_type": "markdown",
   "metadata": {},
   "source": [
    "__Q6a.__ What is your interpretation of the added variable plot?"
   ]
  },
  {
   "cell_type": "markdown",
   "metadata": {},
   "source": []
  },
  {
   "cell_type": "markdown",
   "metadata": {},
   "source": [
    "## Question 7: \n",
    "\n",
    "Generate a binary variable reflecting whether a person has had at least 12 drinks in their lifetime, based on the [ALQ110](https://wwwn.cdc.gov/Nchs/Nhanes/2015-2016/ALQ_I.htm#ALQ110) variable in NHANES.  Calculate the marginal probability, odds, and log odds of this variable for women and for men.  Then calculate the odds ratio for females relative to males."
   ]
  },
  {
   "cell_type": "code",
   "execution_count": 8,
   "metadata": {
    "ExecuteTime": {
     "end_time": "2020-07-02T00:02:40.336676Z",
     "start_time": "2020-07-02T00:02:40.333190Z"
    }
   },
   "outputs": [],
   "source": [
    "# enter your code here"
   ]
  },
  {
   "cell_type": "markdown",
   "metadata": {},
   "source": [
    "__Q7a.__ Based on the log odds alone, do more than 50% of women drink alcohol?"
   ]
  },
  {
   "cell_type": "markdown",
   "metadata": {},
   "source": []
  },
  {
   "cell_type": "markdown",
   "metadata": {},
   "source": [
    "__Q7b.__ Does there appear to be an important difference between the alcohol use rate of women and men?"
   ]
  },
  {
   "cell_type": "markdown",
   "metadata": {},
   "source": []
  },
  {
   "cell_type": "markdown",
   "metadata": {},
   "source": [
    "## Question 8: \n",
    "\n",
    "Use logistic regression to express the log odds that a person drinks (based on the binary drinking variable that you constructed above) in terms of gender."
   ]
  },
  {
   "cell_type": "code",
   "execution_count": 9,
   "metadata": {
    "ExecuteTime": {
     "end_time": "2020-07-02T00:02:40.342575Z",
     "start_time": "2020-07-02T00:02:40.339376Z"
    }
   },
   "outputs": [],
   "source": [
    "# enter your code here"
   ]
  },
  {
   "cell_type": "markdown",
   "metadata": {},
   "source": [
    "__Q8a.__ Is there statistical evidence that the drinking rate differs between women and men?  If so, in what direction is there a difference?"
   ]
  },
  {
   "cell_type": "markdown",
   "metadata": {},
   "source": []
  },
  {
   "cell_type": "markdown",
   "metadata": {},
   "source": [
    "__Q8b.__ Confirm that the log odds ratio between drinking and smoking calculated using the logistic regression model matches the log odds ratio calculated directly in question 6."
   ]
  },
  {
   "cell_type": "markdown",
   "metadata": {},
   "source": []
  },
  {
   "cell_type": "markdown",
   "metadata": {},
   "source": [
    "## Question 9: \n",
    "\n",
    "Use logistic regression to relate drinking to age, gender, and education."
   ]
  },
  {
   "cell_type": "code",
   "execution_count": 10,
   "metadata": {
    "ExecuteTime": {
     "end_time": "2020-07-02T00:02:40.348114Z",
     "start_time": "2020-07-02T00:02:40.344892Z"
    }
   },
   "outputs": [],
   "source": [
    "# enter your code here"
   ]
  },
  {
   "cell_type": "markdown",
   "metadata": {},
   "source": [
    "__Q9a.__ Which of these predictor variables shows a statistically significant association with drinking?"
   ]
  },
  {
   "cell_type": "markdown",
   "metadata": {},
   "source": []
  },
  {
   "cell_type": "markdown",
   "metadata": {},
   "source": [
    "__Q9b.__ What is the odds of a college educated, 50 year old woman drinking?"
   ]
  },
  {
   "cell_type": "markdown",
   "metadata": {},
   "source": []
  },
  {
   "cell_type": "markdown",
   "metadata": {},
   "source": [
    "__Q9c.__ What is the odds ratio between the drinking status for college graduates and high school graduates (with no college), holding gender and age fixed?"
   ]
  },
  {
   "cell_type": "markdown",
   "metadata": {},
   "source": []
  },
  {
   "cell_type": "markdown",
   "metadata": {},
   "source": [
    "__Q9d.__ Did the regression parameter for gender change to a meaningful degree when age and education were added to the model?"
   ]
  },
  {
   "cell_type": "markdown",
   "metadata": {},
   "source": []
  },
  {
   "cell_type": "markdown",
   "metadata": {},
   "source": [
    "## Question 10:\n",
    "\n",
    "Construct a CERES plot for the relationship between drinking and age (using the model that controls for gender and educational attainment)."
   ]
  },
  {
   "cell_type": "code",
   "execution_count": 11,
   "metadata": {
    "ExecuteTime": {
     "end_time": "2020-07-02T00:02:40.353399Z",
     "start_time": "2020-07-02T00:02:40.350431Z"
    }
   },
   "outputs": [],
   "source": [
    "# enter your code here"
   ]
  },
  {
   "cell_type": "markdown",
   "metadata": {},
   "source": [
    "__Q10a.__ Does the plot indicate any major non-linearity in the relationship between age and the log odds for drinking?"
   ]
  }
 ],
 "metadata": {
  "kernelspec": {
   "display_name": "Python 3",
   "language": "python",
   "name": "python3"
  },
  "language_info": {
   "codemirror_mode": {
    "name": "ipython",
    "version": 3
   },
   "file_extension": ".py",
   "mimetype": "text/x-python",
   "name": "python",
   "nbconvert_exporter": "python",
   "pygments_lexer": "ipython3",
   "version": "3.7.4"
  }
 },
 "nbformat": 4,
 "nbformat_minor": 1
}
